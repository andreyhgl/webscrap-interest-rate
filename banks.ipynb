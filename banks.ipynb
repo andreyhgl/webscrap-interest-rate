{
 "cells": [
  {
   "cell_type": "markdown",
   "id": "d6dff536-9f8b-44bf-ada0-79b593803e07",
   "metadata": {},
   "source": [
    "+ [x] import swedbank's homepage with the interest rates, \"listränta\" (https://www.swedbank.se/privat/boende-och-bolan/bolanerantor.html)\n",
    "+ [x] export the actual listränta\n",
    "  + ~~use some grep function to locate '3 mån' and save the next value. But also, make sure it's the interest!~~\n",
    "  + [x] extract: date, 3 month and years; 1, 2, 3, 4, 5, 6, 7, 8, 9, 10. Ok to hard code index\n",
    "  + [x] save into a csv, but only if the numbers have updated\n",
    "+ make script run itself twice a day, github?\n",
    "+ plot it\n",
    "\n",
    "\n",
    ">use bensinpris.ipynb as inspiration"
   ]
  },
  {
   "cell_type": "code",
   "execution_count": 4,
   "id": "93ca9a14-ba28-4716-99d3-7086c2470b7c",
   "metadata": {
    "scrolled": true
   },
   "outputs": [],
   "source": [
    "from bs4 import BeautifulSoup\n",
    "import requests\n",
    "import pandas as pd\n",
    "import datetime\n",
    "\n",
    "url = \"https://www.swedbank.se/privat/boende-och-bolan/bolanerantor.html\"\n",
    "\n",
    "# Extract the html page\n",
    "page = requests.get(url)\n",
    "soup = BeautifulSoup(page.text, 'html.parser')\n",
    "\n",
    "# locate the 'td' element\n",
    "interests = soup.find_all('td', attrs={'class':'JustifyLeft'})\n",
    "\n",
    "# extract interest rates\n",
    "# use indexes, 29:49\n",
    "values = []\n",
    "for i in range(29, 49 + 1, 2): # +1 so 49 is included\n",
    "    val = interests[i].text\n",
    "\n",
    "    # remove white space & extra characters\n",
    "    val = val.replace(\"%\", \"\")\n",
    "    val = val.replace(\"\\n\", \"\")\n",
    "    val = val.replace(\",\", \".\")\n",
    "    val = val.strip()\n",
    "    val = float(val)\n",
    "    \n",
    "    values.append(val)\n",
    "\n",
    "# date + values\n",
    "date = [str(datetime.date.today())]\n",
    "dat = pd.DataFrame([date + values])\n",
    "\n",
    "# column names\n",
    "colnames = ['date', '3m', '1y', '2y', '3y', '4y', '5y', '6y', '7y', '8y', '9y', '10y']\n",
    "dat.columns = colnames"
   ]
  },
  {
   "cell_type": "code",
   "execution_count": 5,
   "id": "8be86367-25ef-4872-9e9f-a307c58bd2a9",
   "metadata": {},
   "outputs": [],
   "source": [
    "import os\n",
    "import numpy as np\n",
    "\n",
    "def save_table(filename, dat):\n",
    "    \n",
    "    if not os.path.isfile(filename):\n",
    "        \n",
    "        # First time file is generated, include the header\n",
    "        print(f\"file {filename} is not found, generating one...\")\n",
    "        dat.to_csv(filename, header = True, index = False)\n",
    "    \n",
    "    else:\n",
    "\n",
    "        # Extract the last row from database (exclude the date), make into array\n",
    "        df = pd.read_csv(filename)\n",
    "        last_row = np.array(df.iloc[-1, 1:])\n",
    "        data = np.array(dat.iloc[:, 1:])\n",
    "\n",
    "        test = last_row == data\n",
    "\n",
    "        # if value is different, append to the csv\n",
    "        if not test.all():\n",
    "            print(f\"updating file {filename}...\")\n",
    "            dat.to_csv(filename, header = False, index = False, mode = 'a')\n",
    "        else:\n",
    "            print(f\"\\nnothing to update in file {filename}\\n\\n\")\n",
    "            print(f\"Today's interests rates are:\\n{dat}\")"
   ]
  },
  {
   "cell_type": "code",
   "execution_count": 121,
   "id": "272f1bd3-3ee9-410c-aaed-4c84b2ecd20d",
   "metadata": {},
   "outputs": [
    {
     "name": "stdout",
     "output_type": "stream",
     "text": [
      "nothing to update in file swedbank.csv\n"
     ]
    }
   ],
   "source": [
    "filename = 'swedbank.csv'\n",
    "save_table(filename, dat)"
   ]
  },
  {
   "cell_type": "markdown",
   "id": "eaa7a842-e6a4-42de-b741-967407882350",
   "metadata": {},
   "source": [
    "---"
   ]
  },
  {
   "cell_type": "markdown",
   "id": "42e8cc54-242d-41f0-951c-b455434fa573",
   "metadata": {},
   "source": [
    "under construction below..."
   ]
  },
  {
   "cell_type": "code",
   "execution_count": 8,
   "id": "9db947fc-488d-4c25-ab52-3e82d9fea22c",
   "metadata": {},
   "outputs": [
    {
     "name": "stdout",
     "output_type": "stream",
     "text": [
      "Today's interests rates are\n",
      "          date    3m    1y    2y    3y    4y    5y    6y    7y    8y    9y  \\\n",
      "0  2024-08-27  5.49  4.24  3.84  3.74  3.74  3.74  3.74  3.74  3.74  3.74   \n",
      "\n",
      "    10y  \n",
      "0  3.74  \n"
     ]
    }
   ],
   "source": [
    "print(f\"Today's interests rates are\\n\", f\"{dat}\")"
   ]
  },
  {
   "cell_type": "code",
   "execution_count": 170,
   "id": "264a830d-999f-49f1-8381-dcf6af02fd64",
   "metadata": {},
   "outputs": [
    {
     "data": {
      "text/html": [
       "<div>\n",
       "<style scoped>\n",
       "    .dataframe tbody tr th:only-of-type {\n",
       "        vertical-align: middle;\n",
       "    }\n",
       "\n",
       "    .dataframe tbody tr th {\n",
       "        vertical-align: top;\n",
       "    }\n",
       "\n",
       "    .dataframe thead th {\n",
       "        text-align: right;\n",
       "    }\n",
       "</style>\n",
       "<table border=\"1\" class=\"dataframe\">\n",
       "  <thead>\n",
       "    <tr style=\"text-align: right;\">\n",
       "      <th></th>\n",
       "      <th>date</th>\n",
       "      <th>3m</th>\n",
       "      <th>1y</th>\n",
       "      <th>2y</th>\n",
       "      <th>3y</th>\n",
       "      <th>4y</th>\n",
       "      <th>5y</th>\n",
       "      <th>6y</th>\n",
       "      <th>7y</th>\n",
       "      <th>8y</th>\n",
       "      <th>9y</th>\n",
       "      <th>10y</th>\n",
       "    </tr>\n",
       "  </thead>\n",
       "  <tbody>\n",
       "    <tr>\n",
       "      <th>0</th>\n",
       "      <td>2024-08-26</td>\n",
       "      <td>5.49</td>\n",
       "      <td>4.24</td>\n",
       "      <td>3.84</td>\n",
       "      <td>3.74</td>\n",
       "      <td>3.74</td>\n",
       "      <td>3.74</td>\n",
       "      <td>3.74</td>\n",
       "      <td>3.74</td>\n",
       "      <td>3.74</td>\n",
       "      <td>3.74</td>\n",
       "      <td>3.74</td>\n",
       "    </tr>\n",
       "  </tbody>\n",
       "</table>\n",
       "</div>"
      ],
      "text/plain": [
       "         date    3m    1y    2y    3y    4y    5y    6y    7y    8y    9y  \\\n",
       "0  2024-08-26  5.49  4.24  3.84  3.74  3.74  3.74  3.74  3.74  3.74  3.74   \n",
       "\n",
       "    10y  \n",
       "0  3.74  "
      ]
     },
     "execution_count": 170,
     "metadata": {},
     "output_type": "execute_result"
    }
   ],
   "source": [
    "# Check if the date already exist in the csv, not to add unnecessary rows\n",
    "def update_table():\n",
    "    d = pd.read_csv('data/bensinpris.csv', sep='\\t')\n",
    "    \n",
    "    # If no previous file exists save with header\n",
    "    #if ():\n",
    "    #    df.to_csv('data/bensinpris.csv', sep='\\t', header=True, mode='a', index=False)\n",
    "    #    print('Table created')\n",
    "    \n",
    "    if (all(d.date != str(today))):\n",
    "        print('Table updating...')\n",
    "        df.to_csv('data/bensinpris.csv', sep='\\t', header=False, mode='a', index=False)\n",
    "    \n",
    "    if any(d.date == str(today)):\n",
    "        d1 = d.loc[d['date'] == str(today)]\n",
    "        \n",
    "        if (str(d1.price) == str(df.price)):\n",
    "            print('Table already updated')\n",
    "        \n",
    "        if (str(d1.price) != str(df.price)):\n",
    "            print('Table updating, replacing todays date')\n",
    "            d = d[:-1] # Remove the last row, should be the latest date\n",
    "            d = d.append(df, ignore_index=True)\n",
    "            \n",
    "            # Replace the previous csv\n",
    "            d.to_csv('data/bensinpris.csv', sep='\\t', header=True, mode='w', index=False)\n",
    "\n",
    "update_table()"
   ]
  },
  {
   "cell_type": "code",
   "execution_count": null,
   "id": "dde56c94-8a67-46c9-851e-ef06dda01b2c",
   "metadata": {},
   "outputs": [],
   "source": []
  },
  {
   "cell_type": "code",
   "execution_count": null,
   "id": "e417102f-39a3-488b-bea0-6c1c1fac3bf5",
   "metadata": {},
   "outputs": [],
   "source": []
  },
  {
   "cell_type": "code",
   "execution_count": null,
   "id": "2116bf4d-0c52-4e3a-95b9-e82d44085702",
   "metadata": {},
   "outputs": [],
   "source": []
  },
  {
   "cell_type": "code",
   "execution_count": null,
   "id": "2c2ab7d8-4433-46ec-bd38-13d86170414d",
   "metadata": {},
   "outputs": [],
   "source": []
  },
  {
   "cell_type": "markdown",
   "id": "c427eadc-53ee-4a85-9d22-b97f138a4b18",
   "metadata": {},
   "source": [
    "# B"
   ]
  },
  {
   "cell_type": "code",
   "execution_count": null,
   "id": "715d0410-ee56-44ff-ae92-983a1da27ebf",
   "metadata": {},
   "outputs": [],
   "source": []
  },
  {
   "cell_type": "markdown",
   "id": "23cc66aa-1287-4639-8520-9a2791829985",
   "metadata": {},
   "source": [
    "# "
   ]
  },
  {
   "cell_type": "markdown",
   "id": "d9de4f9f-6785-4971-ba06-ab38bad37269",
   "metadata": {},
   "source": [
    "# "
   ]
  }
 ],
 "metadata": {
  "kernelspec": {
   "display_name": "Python 3 (ipykernel)",
   "language": "python",
   "name": "python3"
  },
  "language_info": {
   "codemirror_mode": {
    "name": "ipython",
    "version": 3
   },
   "file_extension": ".py",
   "mimetype": "text/x-python",
   "name": "python",
   "nbconvert_exporter": "python",
   "pygments_lexer": "ipython3",
   "version": "3.12.0"
  }
 },
 "nbformat": 4,
 "nbformat_minor": 5
}
